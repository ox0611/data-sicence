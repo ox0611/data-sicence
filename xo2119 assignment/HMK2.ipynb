{
 "cells": [
  {
   "cell_type": "code",
   "execution_count": 5,
   "metadata": {
    "collapsed": true
   },
   "outputs": [],
   "source": [
    "from datascience import *\n",
    "import numpy as np"
   ]
  },
  {
   "cell_type": "markdown",
   "metadata": {},
   "source": [
    "# The Burrito Food Cart"
   ]
  },
  {
   "cell_type": "markdown",
   "metadata": {},
   "source": [
    "In 1990, Mr. A decided to invest in a Mexican food cart in Manhattan. He would work 5 days a week from 11:30 AM to 1:30 PM. His focus was to sell the best burritos in town. In the neighborhood, he remained the only burrito cart owner for 4 years, until 1995, when a competitor, Mr. B, decided to open up another burrito cart in the neighborhood. Mr. B was able to build a name very fast. People liked his burritos much more and with time, he became people's #1 choice. In 2000, two new burrito carts opened and 5 years later the fifth one opened. These last carts used to sell their burritos for much less but were never able to offer burritos that were as tasty as those offered by Mr. B. By then, Mr. A was unable to compete anymore; he neither had a price nor quality advantage and decided to shut down his business in 2008. To see each cart's market share from 1990 - 2010, load the following file into a table: `marketshare.csv`"
   ]
  },
  {
   "cell_type": "markdown",
   "metadata": {},
   "source": [
    "Q1. For simplicity, relabel the \"Market Share\" column to MS. Also, show the first five lines of the table."
   ]
  },
  {
   "cell_type": "markdown",
   "metadata": {},
   "source": [
    "Q2. Verify that every year, the total market share of all opened carts for that year adds up to 1. "
   ]
  },
  {
   "cell_type": "markdown",
   "metadata": {},
   "source": [
    "Q3. The table below shows daily demand:\n",
    "\n",
    "| Year | Daily Demand | \n",
    "|------|--------------|\n",
    "| 1990 |      100     | \n",
    "| 1991 |      110     | \n",
    "| 1992 |      120     | \n",
    "| 1993 |      130     | \n",
    "| 1994 |      140     |\n",
    "| .... |      ...     |\n",
    "\n",
    "and would increase by 10 customers every year. Create a new table which gives the annual customer demand for burritos in the neighborhood where the carts stand. You can assume 5 days/week and 50 weeks/year. This table should contain all the years where market share are recorded as in marketshare.csv.\n"
   ]
  },
  {
   "cell_type": "markdown",
   "metadata": {},
   "source": [
    "Q4. Assume that Mr. A and Mr. B sell their burritos for $\\$4$, while the other carts offer their burritos for only \\$3. Using the market share and demand data, calculate the annual profit for each cart, where profit is (revenue - cost) and the table below shows how much it costs each of the cart owners to make a burrito. Do all necessary calculations, but your final table should have 3 columns with the following labels: Year, Cart and Annual Profit\n",
    "\n",
    "| Cart | Cost | \n",
    "|------|------|\n",
    "|  A   |  2   | \n",
    "|  B   | 2.5  | \n",
    "|  C   | 1.5  | \n",
    "|  D   | 1.8  | \n",
    "|  E   | 1.3  |"
   ]
  },
  {
   "cell_type": "markdown",
   "metadata": {},
   "source": [
    "Q5. Which cart was able to generate the highest annual profit and for which year? "
   ]
  },
  {
   "cell_type": "markdown",
   "metadata": {},
   "source": [
    "Q6. Which cart was able to generate the highest average annual revenue?"
   ]
  },
  {
   "cell_type": "markdown",
   "metadata": {},
   "source": [
    "Q7. If you were the owner of cart A, would you have shut down the business? Explain your answer using the data."
   ]
  },
  {
   "cell_type": "markdown",
   "metadata": {},
   "source": [
    "Q8. In which year did Cart E make the most profit?"
   ]
  },
  {
   "cell_type": "markdown",
   "metadata": {},
   "source": [
    "Q9. Create a matrix that shows the annual profits of each cart. Each row is a year, while each column represents a cart and the cell entry holds the annual profit. "
   ]
  },
  {
   "cell_type": "code",
   "execution_count": null,
   "metadata": {},
   "outputs": [],
   "source": []
  },
  {
   "cell_type": "markdown",
   "metadata": {},
   "source": [
    "# Unemployment "
   ]
  },
  {
   "cell_type": "markdown",
   "metadata": {},
   "source": [
    "The Federal Reserve Bank of St. Louis publishes data about jobs in the US. Load the file `unemployment.csv` for data on unemployment in the United States. There are many ways of defining unemployment, and our dataset includes two notions of the unemployment rate. Among people who are able to work and are looking for a full-time job:\n",
    "\n",
    "1. NEI is the percentage who can't find a job (Non-Employment Index).\n",
    "2. PTER is the percentage of those are only working at a part-time job ( Part-Time for Economic Reasons). \n",
    "\n",
    "Our data has a column for NEI and a columnd for NEI-PTER, which is the combined percentage of both groups. "
   ]
  },
  {
   "cell_type": "markdown",
   "metadata": {},
   "source": [
    "Q1. Create a table which containts data for the top 10 quarters, where the Non-Employment Index was highest."
   ]
  },
  {
   "cell_type": "markdown",
   "metadata": {},
   "source": [
    "Q2. Create a table which only contains information for Years 2000-2005."
   ]
  },
  {
   "cell_type": "markdown",
   "metadata": {},
   "source": [
    "Q3. It is believed that many people became PTER in the \"Great Recession\" of 2008-2009 and so the PTER became very high during those quarters. Does the data show reasonable evidence for such assumption? Explain your answer."
   ]
  }
 ],
 "metadata": {
  "kernelspec": {
   "display_name": "Python 3",
   "language": "python",
   "name": "python3"
  },
  "language_info": {
   "codemirror_mode": {
    "name": "ipython",
    "version": 3
   },
   "file_extension": ".py",
   "mimetype": "text/x-python",
   "name": "python",
   "nbconvert_exporter": "python",
   "pygments_lexer": "ipython3",
   "version": "3.7.3"
  }
 },
 "nbformat": 4,
 "nbformat_minor": 2
}
