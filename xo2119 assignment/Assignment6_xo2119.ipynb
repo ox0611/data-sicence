{
 "cells": [
  {
   "cell_type": "code",
   "execution_count": 1,
   "metadata": {},
   "outputs": [],
   "source": [
    "from datascience import *\n",
    "import numpy as np\n",
    "import math\n",
    "import scipy.stats as stats\n",
    "\n",
    "import matplotlib\n",
    "%matplotlib inline\n",
    "import matplotlib.pyplot as plt\n",
    "plt.style.use('fivethirtyeight')"
   ]
  },
  {
   "cell_type": "markdown",
   "metadata": {},
   "source": [
    "## Problem 1. "
   ]
  },
  {
   "cell_type": "markdown",
   "metadata": {},
   "source": [
    "Chronic exposure to asbestos fiber is a well-known health hazard. The article “The Acute Effects of Chrysotile Asbestos Exposure on Lung Function in the journal Envir. Res., 1978: 360-372 reports results of a study based on a sample of construction workers who had been exposed to asbestos over a prolonged period. \n",
    "\n",
    "Among the data given in the article were the following (ordered) values of pulmonary compliance (cm3/cm H20) for each of 16 subjects eight months after the exposure period (pulmonary compliance is a measure of lung elasticity, or how effectively the lungs are able to inhale and exhale):"
   ]
  },
  {
   "cell_type": "code",
   "execution_count": 2,
   "metadata": {},
   "outputs": [],
   "source": [
    "PulComp = make_array(167.9, 180.8, 184.8, 189.8, 194.8, 200.2, \n",
    "                     201.9, 206.9, 207.2, 208.4, 226.3, 227.7, \n",
    "                     228.5, 232.4, 239.8, 258.6)"
   ]
  },
  {
   "cell_type": "markdown",
   "metadata": {},
   "source": [
    "#### Q1. (2pts) Is the population distribution is normal? We didn't go over the normality test in class. But you can look at the documentation here https://docs.scipy.org/doc/scipy/reference/generated/scipy.stats.normaltest.html"
   ]
  },
  {
   "cell_type": "code",
   "execution_count": 3,
   "metadata": {},
   "outputs": [
    {
     "name": "stdout",
     "output_type": "stream",
     "text": [
      "p = 0.884455\n",
      "The null hypothesis cannot be rejected\n"
     ]
    },
    {
     "name": "stderr",
     "output_type": "stream",
     "text": [
      "/Applications/anaconda3/lib/python3.7/site-packages/scipy/stats/stats.py:1450: UserWarning: kurtosistest only valid for n>=20 ... continuing anyway, n=16\n",
      "  \"anyway, n=%i\" % int(n))\n"
     ]
    }
   ],
   "source": [
    "import numpy as np\n",
    "from scipy.stats import normaltest\n",
    "x = PulComp\n",
    "k2, p = normaltest(x, axis=None)\n",
    "alpha = 1e-3\n",
    "print(\"p = {:g}\".format(p))\n",
    "if p < alpha:  # null hypothesis: x comes from a normal distribution\n",
    "    print(\"The null hypothesis can be rejected\")\n",
    "else:\n",
    "    print(\"The null hypothesis cannot be rejected\")"
   ]
  },
  {
   "cell_type": "markdown",
   "metadata": {},
   "source": [
    "The null hypothesis cannot be rejected, so the population distribution is normal."
   ]
  },
  {
   "cell_type": "markdown",
   "metadata": {},
   "source": [
    "#### Q2. (3pts) Compute a 95% confidence interval for the true average pulmonary compliance after such exposure. Show all work for full credit and justify using a z or t critical value."
   ]
  },
  {
   "cell_type": "code",
   "execution_count": 4,
   "metadata": {},
   "outputs": [
    {
     "name": "stdout",
     "output_type": "stream",
     "text": [
      "The 95% Confidence Interval is [196.87808, 222.62192]\n"
     ]
    }
   ],
   "source": [
    "n = 16 #For the confidence interval, since our data is small ( 𝑛≤30 ), we will the t-critical value.\n",
    "pc_mean = PulComp.mean()\n",
    "pc_std = np.std(PulComp, ddof=1)\n",
    "pc_mean_std = pc_std/math.sqrt(n)\n",
    "alpha = 0.05             # 95% confidence interval\n",
    "df = n - 1     # degree of freedom\n",
    "tcrit = stats.t.ppf(1-alpha/2, df)\n",
    "CI_lower = pc_mean - tcrit*pc_mean_std\n",
    "CI_upper = pc_mean + tcrit*pc_mean_std\n",
    "print('The %d%s Confidence Interval is [%.5f, %.5f]'%\n",
    "      (100*(1-alpha), '%', CI_lower, CI_upper))"
   ]
  },
  {
   "cell_type": "markdown",
   "metadata": {},
   "source": [
    "#### Q3. (2pts) A scan of the literature indicates that normal pulmonary compliance is about 250 cm3/cm H20. Is the mean pulmonary compliance from the exposed population statistically significantly different from this hypothetical “normal” value?"
   ]
  },
  {
   "attachments": {},
   "cell_type": "markdown",
   "metadata": {},
   "source": [
    "The 95% Confidence Interval is [196.87808, 222.62192]\n",
    "\n",
    "The normal pulmonary compliance value is about 250 cm3/cm H20 ∉ CI.\n",
    "\n",
    "The mean pulmonary compliance from the exposed population statistically significantly different from this hypothetical “normal” value."
   ]
  },
  {
   "cell_type": "markdown",
   "metadata": {},
   "source": [
    "#### Q4. (3pts) We want to test whether the mean of the exposed group equals the normal group. How would you set up the null hypothesis and alternative hypothesis? What is the p-value? Would you reject the null hypothesis at an significance level of 0.01? "
   ]
  },
  {
   "cell_type": "markdown",
   "metadata": {},
   "source": [
    "We want to test the effectiveness of this diet plan with a significant level 𝛼 = 0.01.\n",
    "\n",
    "The hypothesis are:\n",
    "\n",
    "H0 : 𝜇=250 cm3/cm H20\n",
    "\n",
    "H1 : 𝜇!=250 cm3/cm H20\n",
    "\n",
    "Since the population variance is unknown and we have a small sample, we will use the t-test."
   ]
  },
  {
   "cell_type": "code",
   "execution_count": 5,
   "metadata": {},
   "outputs": [
    {
     "name": "stdout",
     "output_type": "stream",
     "text": [
      "p_value = 7.54493e-06\n",
      "The null hypothesis can be rejected\n"
     ]
    }
   ],
   "source": [
    "alpha = 0.01\n",
    "population_mean = 250\n",
    "T_stat = (pc_mean - population_mean)/(pc_std/math.sqrt(n))\n",
    "p_value = 2*stats.t.sf(abs(T_stat), df=n-1) \n",
    "print(\"p_value = {:g}\".format(p_value))\n",
    "if p_value < alpha:  # 𝜇=250  cm3/cm H20\n",
    "    print(\"The null hypothesis can be rejected\")\n",
    "else:\n",
    "    print(\"The null hypothesis cannot be rejected\")"
   ]
  },
  {
   "cell_type": "markdown",
   "metadata": {},
   "source": [
    "## Problem 2.\n",
    "\n",
    "An investigator hypothesizes that in people free of diabetes, fasting blood glucose, a risk factor for coronary heart disease, is higher in those who drink at least 2 cups of coffee per day. A cross-sectional study is planned to assess the mean fasting blood glucose levels in people who drink at least two cups of coffee per day. \n",
    "\n",
    "The mean fasting blood glucose level in people free of diabetes is reported as 95.0 mg/dL with a standard deviation of 15 mg/dL. \n",
    "\n",
    "If the mean blood glucose level in people who drink at least 2 cups of coffee per day is 100 mg/dL, this would be important clinically. \n",
    "\n",
    "A one-sided test will be used with a 5% level of significance. "
   ]
  },
  {
   "cell_type": "markdown",
   "metadata": {},
   "source": [
    "#### Q1.  (2pts) Assume we enrolled a total of $n$ subjects. We will reject the null hypothesis if $\\bar X$ is greater than or equal to what value? This should be a funciton of $n$. Note that we are running a *one-sided test*."
   ]
  },
  {
   "attachments": {
    "151572037616_.pic.jpg": {
     "image/jpeg": "[encoded data removed]"
    }
   },
   "cell_type": "markdown",
   "metadata": {},
   "source": [
    "![151572037616_.pic.jpg](attachment:151572037616_.pic.jpg)"
   ]
  },
  {
   "cell_type": "markdown",
   "metadata": {},
   "source": [
    "#### Q2. (3pts) Assume $n=50$. What would be the power of the test?"
   ]
  },
  {
   "cell_type": "code",
   "execution_count": 6,
   "metadata": {},
   "outputs": [
    {
     "data": {
      "text/plain": [
       "0.7618199274499504"
      ]
     },
     "execution_count": 6,
     "metadata": {},
     "output_type": "execute_result"
    }
   ],
   "source": [
    "true_mean = 95\n",
    "std = 15\n",
    "n = 50\n",
    "alpha = 0.05\n",
    "z_crit = stats.norm.ppf(1-alpha)\n",
    "z_crit = z_crit - (100-true_mean)/(std/math.sqrt(n))\n",
    "power = stats.norm.sf(z_crit)\n",
    "power"
   ]
  },
  {
   "cell_type": "markdown",
   "metadata": {},
   "source": [
    "#### Q3. (2pts) What is the power of the test for a general $n$. This should be a function of $n$."
   ]
  },
  {
   "attachments": {
    "161572056942_.pic.jpg": {
     "image/jpeg": "[encoded data removed]"
    }
   },
   "cell_type": "markdown",
   "metadata": {},
   "source": [
    "![161572056942_.pic.jpg](attachment:161572056942_.pic.jpg)"
   ]
  },
  {
   "cell_type": "markdown",
   "metadata": {},
   "source": [
    "#### Q4. (3pts) How many patients should be enrolled in the study to ensure that the power of the test is 80%?"
   ]
  },
  {
   "cell_type": "code",
   "execution_count": 7,
   "metadata": {},
   "outputs": [
    {
     "name": "stdout",
     "output_type": "stream",
     "text": [
      "56\n"
     ]
    }
   ],
   "source": [
    "for n in range(1, 100):\n",
    "    true_mean = 95\n",
    "    std = 15\n",
    "    alpha = 0.05\n",
    "    z_crit = stats.norm.ppf(1-alpha)\n",
    "    z_crit = z_crit - (100-true_mean)/(std/math.sqrt(n))\n",
    "    power = stats.norm.sf(z_crit)\n",
    "    if abs(power - 0.8) < 3e-3:\n",
    "        print(n)"
   ]
  },
  {
   "cell_type": "markdown",
   "metadata": {},
   "source": [
    "###### Problem 3."
   ]
  },
  {
   "cell_type": "markdown",
   "metadata": {},
   "source": [
    "In an effort to link cold environments with hypertension in humans, a preliminary experiment was conducted to investigate the effect of cold on hypertension in rats. Two random samples of 6 rats each were exposed to different environments. One sample of rats was held in a normal environment at 26 Celcius. The other sample was held in a cold 5 Celcius environment. Blood pressures and heart rates were measured for rats for both groups. The blood pressures for the 12 rats are contained in the file `RatBP.csv`.\n",
    "\n",
    "We wish to test the following hypotheses:\n",
    "$$H_0: \\mu_{26C} = \\mu_{5C}$$\n",
    "$$H_1: \\mu_{26C} \\neq \\mu_{5C}$$\n",
    "\n",
    "Please conduct an analysis of this data by addressing the following questions."
   ]
  },
  {
   "cell_type": "markdown",
   "metadata": {},
   "source": [
    "#### Q1. (3pts) Provide a visual presentation of the data (e.g.stacked histogram) and speculate (before conducting any statistical tests) whether the populations appear different or not."
   ]
  },
  {
   "cell_type": "code",
   "execution_count": 8,
   "metadata": {},
   "outputs": [
    {
     "data": {
      "text/html": [
       "<table border=\"1\" class=\"dataframe\">\n",
       "    <thead>\n",
       "        <tr>\n",
       "            <th>Rat</th> <th>Temp</th> <th>BloodPressure</th>\n",
       "        </tr>\n",
       "    </thead>\n",
       "    <tbody>\n",
       "        <tr>\n",
       "            <td>1   </td> <td>26  </td> <td>152          </td>\n",
       "        </tr>\n",
       "        <tr>\n",
       "            <td>2   </td> <td>26  </td> <td>157          </td>\n",
       "        </tr>\n",
       "        <tr>\n",
       "            <td>3   </td> <td>26  </td> <td>179          </td>\n",
       "        </tr>\n",
       "        <tr>\n",
       "            <td>4   </td> <td>26  </td> <td>182          </td>\n",
       "        </tr>\n",
       "        <tr>\n",
       "            <td>5   </td> <td>26  </td> <td>176          </td>\n",
       "        </tr>\n",
       "        <tr>\n",
       "            <td>6   </td> <td>26  </td> <td>149          </td>\n",
       "        </tr>\n",
       "        <tr>\n",
       "            <td>7   </td> <td>5   </td> <td>384          </td>\n",
       "        </tr>\n",
       "        <tr>\n",
       "            <td>8   </td> <td>5   </td> <td>369          </td>\n",
       "        </tr>\n",
       "        <tr>\n",
       "            <td>9   </td> <td>5   </td> <td>354          </td>\n",
       "        </tr>\n",
       "        <tr>\n",
       "            <td>10  </td> <td>5   </td> <td>375          </td>\n",
       "        </tr>\n",
       "        <tr>\n",
       "            <td>11  </td> <td>5   </td> <td>366          </td>\n",
       "        </tr>\n",
       "        <tr>\n",
       "            <td>12  </td> <td>5   </td> <td>423          </td>\n",
       "        </tr>\n",
       "    </tbody>\n",
       "</table>"
      ],
      "text/plain": [
       "<IPython.core.display.HTML object>"
      ]
     },
     "metadata": {},
     "output_type": "display_data"
    }
   ],
   "source": [
    "ratbp = Table.read_table('RatBP.csv')\n",
    "ratbp.show()"
   ]
  },
  {
   "cell_type": "code",
   "execution_count": 9,
   "metadata": {},
   "outputs": [
    {
     "data": {
      "image/png": "[encoded data removed]",
      "text/plain": [
       "<Figure size 360x360 with 1 Axes>"
      ]
     },
     "metadata": {},
     "output_type": "display_data"
    }
   ],
   "source": [
    "results = Table().with_columns(\n",
    "    'c5', ratbp.column(2).take(np.arange(6)),\n",
    "    'c26', ratbp.column(2).take(np.arange(6,12)),\n",
    "    'number', ratbp.column(0).take(np.arange(6)))\n",
    "results.hist(['c5','c26'], bins = np.arange(145, 430, 5),\n",
    "            width=5, height=5)"
   ]
  },
  {
   "cell_type": "markdown",
   "metadata": {},
   "source": [
    "#### Q2. (4pts) Check on the assumption of equal variances."
   ]
  },
  {
   "cell_type": "code",
   "execution_count": 10,
   "metadata": {},
   "outputs": [
    {
     "name": "stdout",
     "output_type": "stream",
     "text": [
      "c26: num_rows = 6 mean = 165.8333 standard deviation 14.7705\n",
      "c5: num_rows = 6 mean = 378.5 standard deviation 23.9562\n"
     ]
    }
   ],
   "source": [
    "c26 = ratbp.column(2).take(np.arange(6))\n",
    "c5 = ratbp.column(2).take(np.arange(6,12))\n",
    "n1 = 6\n",
    "n2 = 6\n",
    "\n",
    "c26_mean = np.mean(c26)\n",
    "c5_mean = np.mean(c5)\n",
    "c26_std = np.std(c26, ddof = 1)\n",
    "c5_std = np.std(c5, ddof = 1)\n",
    "\n",
    "print('c26: num_rows =', n1, \n",
    "      'mean =',round(c26_mean,4), \n",
    "      'standard deviation', round(c26_std,4))\n",
    "print('c5: num_rows =', n2,\n",
    "      'mean =', round(c5_mean,4),\n",
    "      'standard deviation', round(c5_std,4))"
   ]
  },
  {
   "cell_type": "code",
   "execution_count": 11,
   "metadata": {},
   "outputs": [
    {
     "data": {
      "text/plain": [
       "0.31206001693857355"
      ]
     },
     "execution_count": 11,
     "metadata": {},
     "output_type": "execute_result"
    }
   ],
   "source": [
    "F_stat = c5_std**2/c26_std**2\n",
    "pval = 2*stats.f.sf(F_stat, n1-1, n2-1)\n",
    "pval"
   ]
  },
  {
   "cell_type": "markdown",
   "metadata": {},
   "source": [
    "Since p-value is more than 0.05, we cannot reject the null hypothesis and thus will conclude that the two samples have the same variances."
   ]
  },
  {
   "cell_type": "markdown",
   "metadata": {},
   "source": [
    "#### Q3. (3pts) Assume normality holds and conduct the appropriate test. Draw some conclusions about the two populations. "
   ]
  },
  {
   "cell_type": "code",
   "execution_count": 12,
   "metadata": {},
   "outputs": [
    {
     "data": {
      "text/plain": [
       "4.569624795932069e-09"
      ]
     },
     "execution_count": 12,
     "metadata": {},
     "output_type": "execute_result"
    }
   ],
   "source": [
    "T_stat = abs(c26_mean - c5_mean)/math.sqrt(c26_std**2/n1+c5_std**2/n2)\n",
    "pval = stats.t.sf(T_stat, n1-1+n2-1)*2\n",
    "pval"
   ]
  },
  {
   "cell_type": "markdown",
   "metadata": {},
   "source": [
    "Since p-value is less than 0.05, we have enough evidence to reject the null hypothesis and conclude cold environments does have effects on hypertension in humans."
   ]
  },
  {
   "cell_type": "markdown",
   "metadata": {},
   "source": [
    "## Problem 4."
   ]
  },
  {
   "cell_type": "markdown",
   "metadata": {},
   "source": [
    "A pollution-control inspector suspected that a riverside community was releasing semitreated sewage into a river and this, as a consequence, was changing the level of dissolved oxygen of the river. To check this, he drew 15 randomly selected specimens of river water at a location above the town and another 15 specimens below the town. \n",
    "\n",
    "The dissolved oxygen readings, in parts per million, are given in the file `dissolvedO2.csv`. I would like you to answer some questions similar to those posed above only this time for the population of dissolved oxygen levels.\n",
    "\n",
    "We wish to test the following hypotheses:\n",
    "$$H_0: \\mu_{above} = \\mu_{below}$$\n",
    "$$H_1: \\mu_{above} > \\mu_{below}$$"
   ]
  },
  {
   "cell_type": "markdown",
   "metadata": {},
   "source": [
    "#### Q1. (3pts) Provide a visual presentation of the data (e.g. stacked histogram) and speculate (before conducting any statistical tests) whether the populations appear different or not."
   ]
  },
  {
   "cell_type": "code",
   "execution_count": 13,
   "metadata": {},
   "outputs": [
    {
     "data": {
      "text/html": [
       "<table border=\"1\" class=\"dataframe\">\n",
       "    <thead>\n",
       "        <tr>\n",
       "            <th>Sample</th> <th>Location</th> <th>O2Level</th>\n",
       "        </tr>\n",
       "    </thead>\n",
       "    <tbody>\n",
       "        <tr>\n",
       "            <td>1     </td> <td>Above   </td> <td>5.2    </td>\n",
       "        </tr>\n",
       "        <tr>\n",
       "            <td>2     </td> <td>Above   </td> <td>4.8    </td>\n",
       "        </tr>\n",
       "        <tr>\n",
       "            <td>3     </td> <td>Above   </td> <td>5.1    </td>\n",
       "        </tr>\n",
       "        <tr>\n",
       "            <td>4     </td> <td>Above   </td> <td>5      </td>\n",
       "        </tr>\n",
       "        <tr>\n",
       "            <td>5     </td> <td>Above   </td> <td>4.9    </td>\n",
       "        </tr>\n",
       "        <tr>\n",
       "            <td>6     </td> <td>Above   </td> <td>4.8    </td>\n",
       "        </tr>\n",
       "        <tr>\n",
       "            <td>7     </td> <td>Above   </td> <td>5      </td>\n",
       "        </tr>\n",
       "        <tr>\n",
       "            <td>8     </td> <td>Above   </td> <td>4.7    </td>\n",
       "        </tr>\n",
       "        <tr>\n",
       "            <td>9     </td> <td>Above   </td> <td>4.7    </td>\n",
       "        </tr>\n",
       "        <tr>\n",
       "            <td>10    </td> <td>Above   </td> <td>5      </td>\n",
       "        </tr>\n",
       "        <tr>\n",
       "            <td>11    </td> <td>Above   </td> <td>4.7    </td>\n",
       "        </tr>\n",
       "        <tr>\n",
       "            <td>12    </td> <td>Above   </td> <td>5.1    </td>\n",
       "        </tr>\n",
       "        <tr>\n",
       "            <td>13    </td> <td>Above   </td> <td>5      </td>\n",
       "        </tr>\n",
       "        <tr>\n",
       "            <td>14    </td> <td>Above   </td> <td>4.9    </td>\n",
       "        </tr>\n",
       "        <tr>\n",
       "            <td>15    </td> <td>Above   </td> <td>4.9    </td>\n",
       "        </tr>\n",
       "        <tr>\n",
       "            <td>16    </td> <td>Below   </td> <td>4.2    </td>\n",
       "        </tr>\n",
       "        <tr>\n",
       "            <td>17    </td> <td>Below   </td> <td>4.4    </td>\n",
       "        </tr>\n",
       "        <tr>\n",
       "            <td>18    </td> <td>Below   </td> <td>4.7    </td>\n",
       "        </tr>\n",
       "        <tr>\n",
       "            <td>19    </td> <td>Below   </td> <td>4.9    </td>\n",
       "        </tr>\n",
       "        <tr>\n",
       "            <td>20    </td> <td>Below   </td> <td>4.6    </td>\n",
       "        </tr>\n",
       "        <tr>\n",
       "            <td>21    </td> <td>Below   </td> <td>4.8    </td>\n",
       "        </tr>\n",
       "        <tr>\n",
       "            <td>22    </td> <td>Below   </td> <td>4.9    </td>\n",
       "        </tr>\n",
       "        <tr>\n",
       "            <td>23    </td> <td>Below   </td> <td>4.6    </td>\n",
       "        </tr>\n",
       "        <tr>\n",
       "            <td>24    </td> <td>Below   </td> <td>5.1    </td>\n",
       "        </tr>\n",
       "        <tr>\n",
       "            <td>25    </td> <td>Below   </td> <td>4.3    </td>\n",
       "        </tr>\n",
       "        <tr>\n",
       "            <td>26    </td> <td>Below   </td> <td>5.5    </td>\n",
       "        </tr>\n",
       "        <tr>\n",
       "            <td>27    </td> <td>Below   </td> <td>4.7    </td>\n",
       "        </tr>\n",
       "        <tr>\n",
       "            <td>28    </td> <td>Below   </td> <td>4.9    </td>\n",
       "        </tr>\n",
       "        <tr>\n",
       "            <td>29    </td> <td>Below   </td> <td>4.8    </td>\n",
       "        </tr>\n",
       "        <tr>\n",
       "            <td>30    </td> <td>Below   </td> <td>4.7    </td>\n",
       "        </tr>\n",
       "    </tbody>\n",
       "</table>"
      ],
      "text/plain": [
       "<IPython.core.display.HTML object>"
      ]
     },
     "metadata": {},
     "output_type": "display_data"
    }
   ],
   "source": [
    "diso = Table.read_table('dissolvedO2.csv')\n",
    "diso.show()"
   ]
  },
  {
   "cell_type": "code",
   "execution_count": 14,
   "metadata": {},
   "outputs": [
    {
     "data": {
      "image/png": "[encoded data removed]",
      "text/plain": [
       "<Figure size 720x360 with 1 Axes>"
      ]
     },
     "metadata": {},
     "output_type": "display_data"
    }
   ],
   "source": [
    "results = Table().with_columns(\n",
    "    'above', diso.column(2).take(np.arange(15)),\n",
    "    'below', diso.column(2).take(np.arange(15,30)),\n",
    "    'number', diso.column(0).take(np.arange(15)))\n",
    "results.hist(['above','below'], bins = np.arange(4, 6.1, 0.1),\n",
    "            width=10, height=5)"
   ]
  },
  {
   "cell_type": "markdown",
   "metadata": {},
   "source": [
    "\n",
    "#### Q2. (4pts) Check on the assumption of equal variances."
   ]
  },
  {
   "cell_type": "code",
   "execution_count": 15,
   "metadata": {},
   "outputs": [
    {
     "name": "stdout",
     "output_type": "stream",
     "text": [
      "above: num_rows = 15 mean = 4.92 standard deviation 0.1568\n",
      "below: num_rows = 15 mean = 4.74 standard deviation 0.3203\n"
     ]
    }
   ],
   "source": [
    "above = diso.column(2).take(np.arange(15))\n",
    "below = diso.column(2).take(np.arange(15,30))\n",
    "n1 = 15\n",
    "n2 = 15\n",
    "\n",
    "above_mean = np.mean(above)\n",
    "below_mean = np.mean(below)\n",
    "above_std = np.std(above, ddof = 1)\n",
    "below_std = np.std(below, ddof = 1)\n",
    "\n",
    "print('above: num_rows =', n1, \n",
    "      'mean =',round(above_mean,4), \n",
    "      'standard deviation', round(above_std,4))\n",
    "print('below: num_rows =', n2,\n",
    "      'mean =', round(below_mean,4),\n",
    "      'standard deviation', round(below_std,4))"
   ]
  },
  {
   "cell_type": "code",
   "execution_count": 16,
   "metadata": {},
   "outputs": [
    {
     "data": {
      "text/plain": [
       "0.011488909560840461"
      ]
     },
     "execution_count": 16,
     "metadata": {},
     "output_type": "execute_result"
    }
   ],
   "source": [
    "F_stat = below_std**2/above_std**2\n",
    "pval = 2*stats.f.sf(F_stat, n1-1, n2-1)\n",
    "pval"
   ]
  },
  {
   "cell_type": "markdown",
   "metadata": {},
   "source": [
    "Since p-value is less than 0.05, we have to reject the null hypothesis and conclude that the two samples have different variances."
   ]
  },
  {
   "cell_type": "markdown",
   "metadata": {},
   "source": [
    "#### Q3. (3pts) Assume normality holds and conduct the appropriate test. Draw some conclusions about the two populations. *Note that $H_1$ is one-sided*."
   ]
  },
  {
   "cell_type": "code",
   "execution_count": 17,
   "metadata": {},
   "outputs": [
    {
     "name": "stdout",
     "output_type": "stream",
     "text": [
      "df      = 20.34349156497428\n",
      "p-value = 0.06444806606116672\n"
     ]
    }
   ],
   "source": [
    "T_stat = abs(above_mean - below_mean)/math.sqrt(above_std**2/n1+below_std**2/n2)\n",
    "v1 = above_std**2/n1\n",
    "v2 = below_std**2/n2\n",
    "df = ((v1+v2)**2)/((v1**2)/(n1-1)+(v2**2)/(n2-1))\n",
    "print('df      =', df)\n",
    "pval = stats.t.sf(T_stat, df)*2\n",
    "print('p-value =', pval)"
   ]
  },
  {
   "cell_type": "markdown",
   "metadata": {},
   "source": [
    "Since p-value is bigger than 0.05,we don't have enough evidence to reject the null hypothesis and conclude a riverside community was releasing semitreated sewage into a river and this, as a consequence, was changing the level of dissolved oxygen of the river."
   ]
  }
 ],
 "metadata": {
  "kernelspec": {
   "display_name": "Python 3",
   "language": "python",
   "name": "python3"
  },
  "language_info": {
   "codemirror_mode": {
    "name": "ipython",
    "version": 3
   },
   "file_extension": ".py",
   "mimetype": "text/x-python",
   "name": "python",
   "nbconvert_exporter": "python",
   "pygments_lexer": "ipython3",
   "version": "3.7.3"
  }
 },
 "nbformat": 4,
 "nbformat_minor": 2
}
