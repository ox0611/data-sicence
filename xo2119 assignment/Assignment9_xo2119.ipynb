{
 "cells": [
  {
   "cell_type": "code",
   "execution_count": 1,
   "metadata": {},
   "outputs": [],
   "source": [
    "from datascience import *\n",
    "%matplotlib inline\n",
    "import matplotlib.pyplot as plots\n",
    "plots.style.use('fivethirtyeight')\n",
    "import math\n",
    "import numpy as np\n",
    "from scipy import stats\n",
    "import pandas as pd\n",
    "import statsmodels.formula.api as smf\n",
    "from statsmodels.stats.anova import anova_lm"
   ]
  },
  {
   "cell_type": "markdown",
   "metadata": {},
   "source": [
    "## Problem 1.\n",
    "\n",
    "The following functions compute and return the covariance and the correlation coefficient."
   ]
  },
  {
   "cell_type": "code",
   "execution_count": 2,
   "metadata": {},
   "outputs": [],
   "source": [
    "def sample_covariance(x, y):\n",
    "    return np.cov(x,y,ddof=1)[0,1]"
   ]
  },
  {
   "cell_type": "code",
   "execution_count": 3,
   "metadata": {},
   "outputs": [],
   "source": [
    "def correlation_coeff(x, y):\n",
    "    return stats.pearsonr(x,y)[0]"
   ]
  },
  {
   "cell_type": "markdown",
   "metadata": {},
   "source": [
    "Use these functions to answer the following questions:"
   ]
  },
  {
   "cell_type": "code",
   "execution_count": 4,
   "metadata": {},
   "outputs": [],
   "source": [
    "x = np.array([97,86,89,84,94,74])\n",
    "y = np.array([14,11,9,9,15,7])"
   ]
  },
  {
   "cell_type": "markdown",
   "metadata": {},
   "source": [
    "#### 1. \n",
    "What happens to $r$ if you double each of the values in your data.  How does this compare to what happens to the covariance?"
   ]
  },
  {
   "cell_type": "code",
   "execution_count": 5,
   "metadata": {},
   "outputs": [
    {
     "name": "stdout",
     "output_type": "stream",
     "text": [
      "cov1 = 22.46666666666667\n",
      "cor1 = 0.8831162909634475\n",
      "cov2 = 89.86666666666667\n",
      "cor2 = 0.8831162909634475\n"
     ]
    }
   ],
   "source": [
    "doublex = x*2\n",
    "doubley = y*2\n",
    "cov1 = sample_covariance(x,y)\n",
    "cor1 = correlation_coeff(x,y)\n",
    "cov2 = sample_covariance(doublex,doubley)\n",
    "cor2 = correlation_coeff(doublex,doubley)\n",
    "print(\"cov1 =\", cov1)\n",
    "print(\"cor1 =\", cor1)\n",
    "print('cov2 =', cov2)\n",
    "print('cor2 =', cor2)"
   ]
  },
  {
   "cell_type": "markdown",
   "metadata": {},
   "source": [
    "The correlation coefficient doesn't change.\n",
    "\n",
    "The covariance becomes 4 times of the original value."
   ]
  },
  {
   "cell_type": "markdown",
   "metadata": {},
   "source": [
    "#### 2. \n",
    "What happens to $r$ if you add 100 to each value in your data set.  How does this compare to what happens to the covariance?"
   ]
  },
  {
   "cell_type": "code",
   "execution_count": 6,
   "metadata": {},
   "outputs": [
    {
     "name": "stdout",
     "output_type": "stream",
     "text": [
      "cov3 = 22.46666666666667\n",
      "cor3 = 0.8831162909634475\n",
      "cov4 = 22.46666666666667\n",
      "cor4 = 0.8831162909634473\n"
     ]
    }
   ],
   "source": [
    "addx = x+100\n",
    "addy = y+100\n",
    "cov3 = sample_covariance(x,y)\n",
    "cor3 = correlation_coeff(x,y)\n",
    "cov4 = sample_covariance(addx,addy)\n",
    "cor4 = correlation_coeff(addx,addy)\n",
    "print('cov3 =', cov3)\n",
    "print('cor3 =', cor3)\n",
    "print('cov4 =', cov4)\n",
    "print('cor4 =', cor4)"
   ]
  },
  {
   "cell_type": "markdown",
   "metadata": {},
   "source": [
    "The correlation coefficient doesn't change.\n",
    "\n",
    "The covariance also doesn't change."
   ]
  },
  {
   "cell_type": "markdown",
   "metadata": {},
   "source": [
    "## Problem 2.\n",
    "\n",
    "Does skill in one sport imply skill in a related sport?  The answer might be different for different activities.  Let us find out whether it's true for the [triple jump](https://en.wikipedia.org/wiki/Triple_jump) and the vertical jump. \n",
    "\n",
    "`triple_vertical` has data for 40 collegiate level soccer players.  Each athlete's distance in both jump activities was measured in centimeters. We are looking specifically for a *linear* association between skill in the two sports. "
   ]
  },
  {
   "cell_type": "code",
   "execution_count": 7,
   "metadata": {},
   "outputs": [
    {
     "data": {
      "text/html": [
       "<table border=\"1\" class=\"dataframe\">\n",
       "    <thead>\n",
       "        <tr>\n",
       "            <th>triple</th> <th>vertical</th>\n",
       "        </tr>\n",
       "    </thead>\n",
       "    <tbody>\n",
       "        <tr>\n",
       "            <td>383   </td> <td>33      </td>\n",
       "        </tr>\n",
       "        <tr>\n",
       "            <td>781   </td> <td>71.1    </td>\n",
       "        </tr>\n",
       "        <tr>\n",
       "            <td>561.62</td> <td>62.25   </td>\n",
       "        </tr>\n",
       "        <tr>\n",
       "            <td>624.52</td> <td>61.33   </td>\n",
       "        </tr>\n",
       "        <tr>\n",
       "            <td>446.24</td> <td>40.19   </td>\n",
       "        </tr>\n",
       "        <tr>\n",
       "            <td>515.3 </td> <td>38.96   </td>\n",
       "        </tr>\n",
       "        <tr>\n",
       "            <td>449.22</td> <td>39.69   </td>\n",
       "        </tr>\n",
       "        <tr>\n",
       "            <td>560.91</td> <td>46.51   </td>\n",
       "        </tr>\n",
       "        <tr>\n",
       "            <td>519.12</td> <td>37.68   </td>\n",
       "        </tr>\n",
       "        <tr>\n",
       "            <td>595.38</td> <td>53.48   </td>\n",
       "        </tr>\n",
       "    </tbody>\n",
       "</table>\n",
       "<p>... (30 rows omitted)</p>"
      ],
      "text/plain": [
       "triple | vertical\n",
       "383    | 33\n",
       "781    | 71.1\n",
       "561.62 | 62.25\n",
       "624.52 | 61.33\n",
       "446.24 | 40.19\n",
       "515.3  | 38.96\n",
       "449.22 | 39.69\n",
       "560.91 | 46.51\n",
       "519.12 | 37.68\n",
       "595.38 | 53.48\n",
       "... (30 rows omitted)"
      ]
     },
     "execution_count": 7,
     "metadata": {},
     "output_type": "execute_result"
    }
   ],
   "source": [
    "jumps = Table.read_table('triple_vertical.csv')\n",
    "jumps"
   ]
  },
  {
   "cell_type": "markdown",
   "metadata": {},
   "source": [
    "#### 1. \n",
    "Draw the scatter plot of both distances with triple jump on the horizontal axis. Comment on the strength of the relationship."
   ]
  },
  {
   "cell_type": "code",
   "execution_count": 8,
   "metadata": {},
   "outputs": [
    {
     "data": {
      "image/png": "[encoded data removed]",
      "text/plain": [
       "<Figure size 360x360 with 1 Axes>"
      ]
     },
     "metadata": {},
     "output_type": "display_data"
    }
   ],
   "source": [
    "jumps.scatter('triple','vertical')"
   ]
  },
  {
   "cell_type": "markdown",
   "metadata": {},
   "source": [
    "The scatter plot shows us a positive linear association: triple with larger distance imply larger distance on vertical."
   ]
  },
  {
   "cell_type": "markdown",
   "metadata": {},
   "source": [
    "#### 2.\n",
    "Calculate the correlation coefficient **without** using any built-in function (e.g. numpy.cov, stats.pearsonr)."
   ]
  },
  {
   "cell_type": "code",
   "execution_count": 9,
   "metadata": {},
   "outputs": [
    {
     "name": "stdout",
     "output_type": "stream",
     "text": [
      "r= 0.834308\n"
     ]
    }
   ],
   "source": [
    "vertical_mean = np.mean(jumps.column('vertical'))\n",
    "triple_mean = np.mean(jumps.column('triple'))\n",
    "vertical_std = np.std(jumps.column('vertical'), ddof=1)\n",
    "triple_std = np.std(jumps.column('triple'), ddof=1)\n",
    "n = jumps.num_rows\n",
    "covariance = np.sum((jumps.column('vertical')-vertical_mean)*\n",
    "                    (jumps.column('triple')-triple_mean))/(n-1)\n",
    "normalizer = vertical_std*triple_std\n",
    "r = covariance/normalizer\n",
    "print('r=',round(r,6))"
   ]
  },
  {
   "cell_type": "markdown",
   "metadata": {},
   "source": [
    "#### 3. \n",
    "Fit a linear regression model using triple jump distance to predict vertical jump distance. Print the summary table and plot the fitted line.\n"
   ]
  },
  {
   "cell_type": "code",
   "execution_count": 10,
   "metadata": {},
   "outputs": [
    {
     "name": "stdout",
     "output_type": "stream",
     "text": [
      "y = 0.09 x + -1.57\n"
     ]
    },
    {
     "data": {
      "image/png": "[encoded data removed]",
      "text/plain": [
       "<Figure size 360x360 with 1 Axes>"
      ]
     },
     "metadata": {},
     "output_type": "display_data"
    }
   ],
   "source": [
    "jumps.scatter('triple','vertical',fit_line=True)\n",
    "slope = r*vertical_std/triple_std  \n",
    "intercept = vertical_mean - slope * triple_mean\n",
    "\n",
    "xs = np.linspace(400,800,100)\n",
    "_ = plots.plot(xs, slope*xs+intercept, color='r', lw=3, linestyle=\":\")\n",
    "\n",
    "print('y = %.2f x + %.2f'%(slope, intercept))"
   ]
  },
  {
   "cell_type": "code",
   "execution_count": 11,
   "metadata": {},
   "outputs": [
    {
     "name": "stdout",
     "output_type": "stream",
     "text": [
      "Intercept   -1.566521\n",
      "triple       0.092957\n",
      "dtype: float64\n"
     ]
    },
    {
     "data": {
      "text/html": [
       "<table class=\"simpletable\">\n",
       "<caption>OLS Regression Results</caption>\n",
       "<tr>\n",
       "  <th>Dep. Variable:</th>        <td>vertical</td>     <th>  R-squared:         </th> <td>   0.696</td>\n",
       "</tr>\n",
       "<tr>\n",
       "  <th>Model:</th>                   <td>OLS</td>       <th>  Adj. R-squared:    </th> <td>   0.688</td>\n",
       "</tr>\n",
       "<tr>\n",
       "  <th>Method:</th>             <td>Least Squares</td>  <th>  F-statistic:       </th> <td>   87.03</td>\n",
       "</tr>\n",
       "<tr>\n",
       "  <th>Date:</th>             <td>Fri, 22 Nov 2019</td> <th>  Prob (F-statistic):</th> <td>2.27e-11</td>\n",
       "</tr>\n",
       "<tr>\n",
       "  <th>Time:</th>                 <td>18:13:40</td>     <th>  Log-Likelihood:    </th> <td> -127.64</td>\n",
       "</tr>\n",
       "<tr>\n",
       "  <th>No. Observations:</th>      <td>    40</td>      <th>  AIC:               </th> <td>   259.3</td>\n",
       "</tr>\n",
       "<tr>\n",
       "  <th>Df Residuals:</th>          <td>    38</td>      <th>  BIC:               </th> <td>   262.7</td>\n",
       "</tr>\n",
       "<tr>\n",
       "  <th>Df Model:</th>              <td>     1</td>      <th>                     </th>     <td> </td>   \n",
       "</tr>\n",
       "<tr>\n",
       "  <th>Covariance Type:</th>      <td>nonrobust</td>    <th>                     </th>     <td> </td>   \n",
       "</tr>\n",
       "</table>\n",
       "<table class=\"simpletable\">\n",
       "<tr>\n",
       "      <td></td>         <th>coef</th>     <th>std err</th>      <th>t</th>      <th>P>|t|</th>  <th>[0.025</th>    <th>0.975]</th>  \n",
       "</tr>\n",
       "<tr>\n",
       "  <th>Intercept</th> <td>   -1.5665</td> <td>    5.535</td> <td>   -0.283</td> <td> 0.779</td> <td>  -12.772</td> <td>    9.639</td>\n",
       "</tr>\n",
       "<tr>\n",
       "  <th>triple</th>    <td>    0.0930</td> <td>    0.010</td> <td>    9.329</td> <td> 0.000</td> <td>    0.073</td> <td>    0.113</td>\n",
       "</tr>\n",
       "</table>\n",
       "<table class=\"simpletable\">\n",
       "<tr>\n",
       "  <th>Omnibus:</th>       <td> 0.425</td> <th>  Durbin-Watson:     </th> <td>   1.869</td>\n",
       "</tr>\n",
       "<tr>\n",
       "  <th>Prob(Omnibus):</th> <td> 0.809</td> <th>  Jarque-Bera (JB):  </th> <td>   0.047</td>\n",
       "</tr>\n",
       "<tr>\n",
       "  <th>Skew:</th>          <td> 0.061</td> <th>  Prob(JB):          </th> <td>   0.977</td>\n",
       "</tr>\n",
       "<tr>\n",
       "  <th>Kurtosis:</th>      <td> 3.115</td> <th>  Cond. No.          </th> <td>3.22e+03</td>\n",
       "</tr>\n",
       "</table><br/><br/>Warnings:<br/>[1] Standard Errors assume that the covariance matrix of the errors is correctly specified.<br/>[2] The condition number is large, 3.22e+03. This might indicate that there are<br/>strong multicollinearity or other numerical problems."
      ],
      "text/plain": [
       "<class 'statsmodels.iolib.summary.Summary'>\n",
       "\"\"\"\n",
       "                            OLS Regression Results                            \n",
       "==============================================================================\n",
       "Dep. Variable:               vertical   R-squared:                       0.696\n",
       "Model:                            OLS   Adj. R-squared:                  0.688\n",
       "Method:                 Least Squares   F-statistic:                     87.03\n",
       "Date:                Fri, 22 Nov 2019   Prob (F-statistic):           2.27e-11\n",
       "Time:                        18:13:40   Log-Likelihood:                -127.64\n",
       "No. Observations:                  40   AIC:                             259.3\n",
       "Df Residuals:                      38   BIC:                             262.7\n",
       "Df Model:                           1                                         \n",
       "Covariance Type:            nonrobust                                         \n",
       "==============================================================================\n",
       "                 coef    std err          t      P>|t|      [0.025      0.975]\n",
       "------------------------------------------------------------------------------\n",
       "Intercept     -1.5665      5.535     -0.283      0.779     -12.772       9.639\n",
       "triple         0.0930      0.010      9.329      0.000       0.073       0.113\n",
       "==============================================================================\n",
       "Omnibus:                        0.425   Durbin-Watson:                   1.869\n",
       "Prob(Omnibus):                  0.809   Jarque-Bera (JB):                0.047\n",
       "Skew:                           0.061   Prob(JB):                        0.977\n",
       "Kurtosis:                       3.115   Cond. No.                     3.22e+03\n",
       "==============================================================================\n",
       "\n",
       "Warnings:\n",
       "[1] Standard Errors assume that the covariance matrix of the errors is correctly specified.\n",
       "[2] The condition number is large, 3.22e+03. This might indicate that there are\n",
       "strong multicollinearity or other numerical problems.\n",
       "\"\"\""
      ]
     },
     "execution_count": 11,
     "metadata": {},
     "output_type": "execute_result"
    }
   ],
   "source": [
    "jumps_df = jumps.to_df()\n",
    "result = smf.ols(formula=\"vertical ~ triple\", data=jumps_df).fit()\n",
    "\n",
    "print(result.params)\n",
    "result.summary()"
   ]
  },
  {
   "cell_type": "markdown",
   "metadata": {},
   "source": [
    "#### 4. \n",
    "Use the fitted model to predict what certain athletes' vertical jump heights would be given their triple jump distances. The world record for the triple jump distance is 18.29 *meters* by Johnathan Edwards. What's our prediction for what Edwards' vertical jump would be?"
   ]
  },
  {
   "cell_type": "code",
   "execution_count": 12,
   "metadata": {},
   "outputs": [
    {
     "name": "stdout",
     "output_type": "stream",
     "text": [
      "vertical_predict = 168.45234708280432 centimeters\n"
     ]
    }
   ],
   "source": [
    "vertical_predict = slope*1829 + intercept\n",
    "print('vertical_predict =', vertical_predict, 'centimeters')"
   ]
  },
  {
   "cell_type": "markdown",
   "metadata": {},
   "source": [
    "#### 5. \n",
    "What are the SSE, SST, and SSR of our model? \n",
    "\n",
    "Calculate the coefficient of determination ($R^2$) and the adjusted $R^2$ using these values and check it with the value given in the summary table."
   ]
  },
  {
   "cell_type": "code",
   "execution_count": 13,
   "metadata": {},
   "outputs": [
    {
     "data": {
      "text/html": [
       "<table border=\"1\" class=\"dataframe\">\n",
       "    <thead>\n",
       "        <tr>\n",
       "            <th>triple</th> <th>vertical</th> <th>Fitted Value</th> <th>Residual</th>\n",
       "        </tr>\n",
       "    </thead>\n",
       "    <tbody>\n",
       "        <tr>\n",
       "            <td>383   </td> <td>33      </td> <td>34.0361     </td> <td>-1.03612 </td>\n",
       "        </tr>\n",
       "        <tr>\n",
       "            <td>781   </td> <td>71.1    </td> <td>71.0331     </td> <td>0.066884 </td>\n",
       "        </tr>\n",
       "        <tr>\n",
       "            <td>561.62</td> <td>62.25   </td> <td>50.6401     </td> <td>11.6099  </td>\n",
       "        </tr>\n",
       "        <tr>\n",
       "            <td>624.52</td> <td>61.33   </td> <td>56.4872     </td> <td>4.84284  </td>\n",
       "        </tr>\n",
       "        <tr>\n",
       "            <td>446.24</td> <td>40.19   </td> <td>39.9147     </td> <td>0.275264 </td>\n",
       "        </tr>\n",
       "        <tr>\n",
       "            <td>515.3 </td> <td>38.96   </td> <td>46.3344     </td> <td>-7.37437 </td>\n",
       "        </tr>\n",
       "        <tr>\n",
       "            <td>449.22</td> <td>39.69   </td> <td>40.1917     </td> <td>-0.501749</td>\n",
       "        </tr>\n",
       "        <tr>\n",
       "            <td>560.91</td> <td>46.51   </td> <td>50.5741     </td> <td>-4.06415 </td>\n",
       "        </tr>\n",
       "        <tr>\n",
       "            <td>519.12</td> <td>37.68   </td> <td>46.6895     </td> <td>-9.00946 </td>\n",
       "        </tr>\n",
       "        <tr>\n",
       "            <td>595.38</td> <td>53.48   </td> <td>53.7784     </td> <td>-0.298385</td>\n",
       "        </tr>\n",
       "    </tbody>\n",
       "</table>\n",
       "<p>... (30 rows omitted)</p>"
      ],
      "text/plain": [
       "triple | vertical | Fitted Value | Residual\n",
       "383    | 33       | 34.0361      | -1.03612\n",
       "781    | 71.1     | 71.0331      | 0.066884\n",
       "561.62 | 62.25    | 50.6401      | 11.6099\n",
       "624.52 | 61.33    | 56.4872      | 4.84284\n",
       "446.24 | 40.19    | 39.9147      | 0.275264\n",
       "515.3  | 38.96    | 46.3344      | -7.37437\n",
       "449.22 | 39.69    | 40.1917      | -0.501749\n",
       "560.91 | 46.51    | 50.5741      | -4.06415\n",
       "519.12 | 37.68    | 46.6895      | -9.00946\n",
       "595.38 | 53.48    | 53.7784      | -0.298385\n",
       "... (30 rows omitted)"
      ]
     },
     "execution_count": 13,
     "metadata": {},
     "output_type": "execute_result"
    }
   ],
   "source": [
    "jumps1 = jumps.with_columns(\n",
    "        'Fitted Value', result.predict(),\n",
    "        'Residual', jumps.column('vertical') - result.predict())\n",
    "jumps1"
   ]
  },
  {
   "cell_type": "code",
   "execution_count": 14,
   "metadata": {},
   "outputs": [
    {
     "data": {
      "text/plain": [
       "1384.5104685768981"
      ]
     },
     "execution_count": 14,
     "metadata": {},
     "output_type": "execute_result"
    }
   ],
   "source": [
    "SSE = np.sum(jumps1.column('Residual')**2)\n",
    "SSE "
   ]
  },
  {
   "cell_type": "code",
   "execution_count": 15,
   "metadata": {},
   "outputs": [
    {
     "data": {
      "text/plain": [
       "4555.3496975"
      ]
     },
     "execution_count": 15,
     "metadata": {},
     "output_type": "execute_result"
    }
   ],
   "source": [
    "SST = np.sum((jumps1.column('vertical')-np.mean(jumps1.column('vertical')))**2)\n",
    "SST"
   ]
  },
  {
   "cell_type": "code",
   "execution_count": 16,
   "metadata": {},
   "outputs": [
    {
     "data": {
      "text/plain": [
       "3170.8392289231015"
      ]
     },
     "execution_count": 16,
     "metadata": {},
     "output_type": "execute_result"
    }
   ],
   "source": [
    "SSR = SST - SSE\n",
    "SSR"
   ]
  },
  {
   "cell_type": "code",
   "execution_count": 17,
   "metadata": {},
   "outputs": [
    {
     "data": {
      "text/plain": [
       "0.6960693337469295"
      ]
     },
     "execution_count": 17,
     "metadata": {},
     "output_type": "execute_result"
    }
   ],
   "source": [
    "R2 = 1-SSE/SST\n",
    "R2"
   ]
  },
  {
   "cell_type": "code",
   "execution_count": 18,
   "metadata": {},
   "outputs": [
    {
     "data": {
      "text/plain": [
       "0.6880711583192171"
      ]
     },
     "execution_count": 18,
     "metadata": {},
     "output_type": "execute_result"
    }
   ],
   "source": [
    "n = 40\n",
    "k = 1   \n",
    "adjR2 = 1-(1-R2)*(n-1)/(n-k-1)\n",
    "adjR2"
   ]
  },
  {
   "cell_type": "markdown",
   "metadata": {},
   "source": [
    "#### 6. \n",
    "Using SSE, SST, and/or SSR computed above, calculate the F value for the overall fit and the p-value associated with the overall fit. \n",
    "\n",
    "Compare these with the values given in the summary table. Does the fit appear to be statistically significant? \n"
   ]
  },
  {
   "cell_type": "code",
   "execution_count": 19,
   "metadata": {},
   "outputs": [
    {
     "data": {
      "text/plain": [
       "87.0285154455555"
      ]
     },
     "execution_count": 19,
     "metadata": {},
     "output_type": "execute_result"
    }
   ],
   "source": [
    "p = 2\n",
    "n = 40\n",
    "F = SSR/(p-1)/(SSE/(n-p))\n",
    "F"
   ]
  },
  {
   "cell_type": "code",
   "execution_count": 20,
   "metadata": {},
   "outputs": [
    {
     "data": {
      "text/plain": [
       "2.2696388580189754e-11"
      ]
     },
     "execution_count": 20,
     "metadata": {},
     "output_type": "execute_result"
    }
   ],
   "source": [
    "stats.f.sf(F, p-1, n-p)"
   ]
  },
  {
   "cell_type": "markdown",
   "metadata": {},
   "source": [
    "These values are the same with the values given in the summary table. The fit appear to be statistically significant."
   ]
  },
  {
   "cell_type": "markdown",
   "metadata": {},
   "source": [
    "## Problem 3.\n",
    "\n",
    "Farmer Heinz is concerned about how the quantity of fertilizer (in pounds per plot) might affect the yield of tomatoes (in bushels per plot). The data are contained in the comma delimited text file `tomato.txt`."
   ]
  },
  {
   "cell_type": "code",
   "execution_count": 21,
   "metadata": {},
   "outputs": [
    {
     "data": {
      "text/html": [
       "<table border=\"1\" class=\"dataframe\">\n",
       "    <thead>\n",
       "        <tr>\n",
       "            <th>plot</th> <th>Yield</th> <th>fertilizer</th>\n",
       "        </tr>\n",
       "    </thead>\n",
       "    <tbody>\n",
       "        <tr>\n",
       "            <td>2   </td> <td>18   </td> <td>5         </td>\n",
       "        </tr>\n",
       "        <tr>\n",
       "            <td>7   </td> <td>20   </td> <td>6         </td>\n",
       "        </tr>\n",
       "        <tr>\n",
       "            <td>11  </td> <td>21   </td> <td>8         </td>\n",
       "        </tr>\n",
       "        <tr>\n",
       "            <td>9   </td> <td>25   </td> <td>11        </td>\n",
       "        </tr>\n",
       "        <tr>\n",
       "            <td>1   </td> <td>24   </td> <td>12        </td>\n",
       "        </tr>\n",
       "        <tr>\n",
       "            <td>10  </td> <td>27   </td> <td>13        </td>\n",
       "        </tr>\n",
       "        <tr>\n",
       "            <td>6   </td> <td>30   </td> <td>14        </td>\n",
       "        </tr>\n",
       "        <tr>\n",
       "            <td>3   </td> <td>31   </td> <td>15        </td>\n",
       "        </tr>\n",
       "        <tr>\n",
       "            <td>4   </td> <td>33   </td> <td>17        </td>\n",
       "        </tr>\n",
       "        <tr>\n",
       "            <td>12  </td> <td>29   </td> <td>18        </td>\n",
       "        </tr>\n",
       "        <tr>\n",
       "            <td>5   </td> <td>26   </td> <td>20        </td>\n",
       "        </tr>\n",
       "        <tr>\n",
       "            <td>13  </td> <td>29   </td> <td>22        </td>\n",
       "        </tr>\n",
       "        <tr>\n",
       "            <td>8   </td> <td>25   </td> <td>23        </td>\n",
       "        </tr>\n",
       "        <tr>\n",
       "            <td>14  </td> <td>26   </td> <td>25        </td>\n",
       "        </tr>\n",
       "    </tbody>\n",
       "</table>"
      ],
      "text/plain": [
       "<IPython.core.display.HTML object>"
      ]
     },
     "metadata": {},
     "output_type": "display_data"
    }
   ],
   "source": [
    "tomato = Table.read_table('tomato.csv')\n",
    "tomato = tomato.sort('fertilizer')\n",
    "tomato.show()"
   ]
  },
  {
   "cell_type": "markdown",
   "metadata": {},
   "source": [
    "#### 1. \n",
    "Provide a scatter plot of tomato yield against the quantity of fertilizer used. Does the relationship appear to be linear?"
   ]
  },
  {
   "cell_type": "code",
   "execution_count": 22,
   "metadata": {},
   "outputs": [
    {
     "data": {
      "image/png": "[encoded data removed]",
      "text/plain": [
       "<Figure size 360x360 with 1 Axes>"
      ]
     },
     "metadata": {},
     "output_type": "display_data"
    }
   ],
   "source": [
    "tomato.scatter('fertilizer','Yield')"
   ]
  },
  {
   "cell_type": "markdown",
   "metadata": {},
   "source": [
    "The relationship appears to be non-linear."
   ]
  },
  {
   "cell_type": "markdown",
   "metadata": {},
   "source": [
    "#### 2. \n",
    "Conduct a series of regressions on these data with increasingly more complex models. Start with the null model of no relationship (formula='Yield~1'). Then proceed to a linear model, and then a model of order 2, and finally a model of order 3. \n",
    "\n",
    "(1). Plot all four fitted lines in a single plot.\n",
    "\n",
    "(2). State which model you believe is the best and provide a statistically reasonable justification for your choice."
   ]
  },
  {
   "cell_type": "code",
   "execution_count": 23,
   "metadata": {},
   "outputs": [
    {
     "name": "stdout",
     "output_type": "stream",
     "text": [
      "Intercept    26.0\n",
      "dtype: float64\n"
     ]
    }
   ],
   "source": [
    "tomato_df = tomato.to_df()\n",
    "result1 = smf.ols(formula=\"Yield ~ 1\", data=tomato_df).fit()\n",
    "\n",
    "print(result1.params)"
   ]
  },
  {
   "cell_type": "code",
   "execution_count": 24,
   "metadata": {},
   "outputs": [
    {
     "name": "stdout",
     "output_type": "stream",
     "text": [
      "Intercept     19.893331\n",
      "fertilizer     0.409059\n",
      "dtype: float64\n"
     ]
    }
   ],
   "source": [
    "result2 = smf.ols(formula=\"Yield ~ fertilizer\", \n",
    "                 data=tomato.to_df()).fit()\n",
    "print(result2.params)"
   ]
  },
  {
   "cell_type": "code",
   "execution_count": 25,
   "metadata": {},
   "outputs": [
    {
     "name": "stdout",
     "output_type": "stream",
     "text": [
      "Intercept             5.703112\n",
      "fertilizer            2.692343\n",
      "I(fertilizer ** 2)   -0.076713\n",
      "dtype: float64\n"
     ]
    }
   ],
   "source": [
    "result3 = smf.ols(formula=\"Yield ~ fertilizer + I(fertilizer**2)\", \n",
    "                 data=tomato.to_df()).fit()\n",
    "print(result3.params)"
   ]
  },
  {
   "cell_type": "code",
   "execution_count": 26,
   "metadata": {},
   "outputs": [
    {
     "name": "stdout",
     "output_type": "stream",
     "text": [
      "Intercept             9.999913\n",
      "fertilizer            1.542884\n",
      "I(fertilizer ** 2)    0.010310\n",
      "I(fertilizer ** 3)   -0.001958\n",
      "dtype: float64\n"
     ]
    }
   ],
   "source": [
    "result4 = smf.ols(formula=\"Yield ~ fertilizer + I(fertilizer**2) + I(fertilizer**3)\", \n",
    "                 data=tomato.to_df()).fit()\n",
    "print(result4.params)"
   ]
  },
  {
   "cell_type": "code",
   "execution_count": 27,
   "metadata": {},
   "outputs": [
    {
     "data": {
      "image/png": "[encoded data removed]",
      "text/plain": [
       "<Figure size 360x360 with 1 Axes>"
      ]
     },
     "metadata": {},
     "output_type": "display_data"
    }
   ],
   "source": [
    "tomato.scatter('fertilizer','Yield',s=30)\n",
    "\n",
    "xs = np.linspace(5,25,20)\n",
    "y26 = 26*np.ones(len(xs))\n",
    "xs2 = np.power(xs,2)\n",
    "xs3 = np.power(xs,3)\n",
    "_ = plots.plot(xs, y26, color='k', lw=3, linestyle=\":\")\n",
    "_ = plots.plot(xs, 0.409059*xs+19.893331, color='g', lw=3, linestyle=\":\")\n",
    "_ = plots.plot(xs, -0.076713*xs2 + 2.692343*xs + 5.703112, color='r', lw=3, linestyle=\":\")\n",
    "_ = plots.plot(xs, -0.001958*xs3 + 0.0103103*xs2 + 1.542884*xs + 9.999913, color='b', lw=3, linestyle=\":\")"
   ]
  },
  {
   "cell_type": "code",
   "execution_count": 29,
   "metadata": {},
   "outputs": [
    {
     "data": {
      "text/html": [
       "<div>\n",
       "<style scoped>\n",
       "    .dataframe tbody tr th:only-of-type {\n",
       "        vertical-align: middle;\n",
       "    }\n",
       "\n",
       "    .dataframe tbody tr th {\n",
       "        vertical-align: top;\n",
       "    }\n",
       "\n",
       "    .dataframe thead th {\n",
       "        text-align: right;\n",
       "    }\n",
       "</style>\n",
       "<table border=\"1\" class=\"dataframe\">\n",
       "  <thead>\n",
       "    <tr style=\"text-align: right;\">\n",
       "      <th></th>\n",
       "      <th>df_resid</th>\n",
       "      <th>ssr</th>\n",
       "      <th>df_diff</th>\n",
       "      <th>ss_diff</th>\n",
       "      <th>F</th>\n",
       "      <th>Pr(&gt;F)</th>\n",
       "    </tr>\n",
       "  </thead>\n",
       "  <tbody>\n",
       "    <tr>\n",
       "      <th>0</th>\n",
       "      <td>11.0</td>\n",
       "      <td>49.432849</td>\n",
       "      <td>0.0</td>\n",
       "      <td>NaN</td>\n",
       "      <td>NaN</td>\n",
       "      <td>NaN</td>\n",
       "    </tr>\n",
       "    <tr>\n",
       "      <th>1</th>\n",
       "      <td>10.0</td>\n",
       "      <td>47.776599</td>\n",
       "      <td>1.0</td>\n",
       "      <td>1.656249</td>\n",
       "      <td>0.346665</td>\n",
       "      <td>0.569067</td>\n",
       "    </tr>\n",
       "  </tbody>\n",
       "</table>\n",
       "</div>"
      ],
      "text/plain": [
       "   df_resid        ssr  df_diff   ss_diff         F    Pr(>F)\n",
       "0      11.0  49.432849      0.0       NaN       NaN       NaN\n",
       "1      10.0  47.776599      1.0  1.656249  0.346665  0.569067"
      ]
     },
     "execution_count": 29,
     "metadata": {},
     "output_type": "execute_result"
    }
   ],
   "source": [
    "anova_lm(result3,result4)"
   ]
  },
  {
   "cell_type": "markdown",
   "metadata": {},
   "source": [
    "This is a hypothesis on two models. The null hypothesis is that models of order 2 and order 3 fit the data equally well. Since here the p-value is more than 0.05, we cannot reject the null hypothesis. That is, the quadratic model and the cubic model fits the data equally well. \n",
    "\n",
    "In this case, we prefer the parsimonious model (model of order 2), i.e., the model with fewer parameters."
   ]
  }
 ],
 "metadata": {
  "kernelspec": {
   "display_name": "Python 3",
   "language": "python",
   "name": "python3"
  },
  "language_info": {
   "codemirror_mode": {
    "name": "ipython",
    "version": 3
   },
   "file_extension": ".py",
   "mimetype": "text/x-python",
   "name": "python",
   "nbconvert_exporter": "python",
   "pygments_lexer": "ipython3",
   "version": "3.7.3"
  }
 },
 "nbformat": 4,
 "nbformat_minor": 2
}
