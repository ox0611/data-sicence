{
 "cells": [
  {
   "cell_type": "code",
   "execution_count": null,
   "metadata": {},
   "outputs": [],
   "source": [
    "from datascience import *\n",
    "import numpy as np\n",
    "import math\n",
    "import scipy.stats as stats\n",
    "\n",
    "import matplotlib\n",
    "%matplotlib inline\n",
    "import matplotlib.pyplot as plt\n",
    "plt.style.use('fivethirtyeight')"
   ]
  },
  {
   "cell_type": "markdown",
   "metadata": {},
   "source": [
    "## Problem 1. "
   ]
  },
  {
   "cell_type": "markdown",
   "metadata": {},
   "source": [
    "Chronic exposure to asbestos fiber is a well-known health hazard. The article “The Acute Effects of Chrysotile Asbestos Exposure on Lung Function in the journal Envir. Res., 1978: 360-372 reports results of a study based on a sample of construction workers who had been exposed to asbestos over a prolonged period. \n",
    "\n",
    "Among the data given in the article were the following (ordered) values of pulmonary compliance (cm3/cm H20) for each of 16 subjects eight months after the exposure period (pulmonary compliance is a measure of lung elasticity, or how effectively the lungs are able to inhale and exhale):"
   ]
  },
  {
   "cell_type": "code",
   "execution_count": null,
   "metadata": {},
   "outputs": [],
   "source": [
    "PulComp = make_array(167.9, 180.8, 184.8, 189.8, 194.8, 200.2, \n",
    "                     201.9, 206.9, 207.2, 208.4, 226.3, 227.7, \n",
    "                     228.5, 232.4, 239.8, 258.6)"
   ]
  },
  {
   "cell_type": "markdown",
   "metadata": {},
   "source": [
    "#### Q1. (2pts) Is the population distribution is normal? We didn't go over the normality test in class. But you can look at the documentation here https://docs.scipy.org/doc/scipy/reference/generated/scipy.stats.normaltest.html"
   ]
  },
  {
   "cell_type": "code",
   "execution_count": null,
   "metadata": {},
   "outputs": [],
   "source": []
  },
  {
   "cell_type": "markdown",
   "metadata": {},
   "source": [
    "#### Q2. (3pts) Compute a 95% confidence interval for the true average pulmonary compliance after such exposure. Show all work for full credit and justify using a z or t critical value."
   ]
  },
  {
   "cell_type": "code",
   "execution_count": null,
   "metadata": {},
   "outputs": [],
   "source": []
  },
  {
   "cell_type": "markdown",
   "metadata": {},
   "source": [
    "#### Q3. (2pts) A scan of the literature indicates that normal pulmonary compliance is about 250 cm3/cm H20. Is the mean pulmonary compliance from the exposed population statistically significantly different from this hypothetical “normal” value?"
   ]
  },
  {
   "cell_type": "code",
   "execution_count": null,
   "metadata": {},
   "outputs": [],
   "source": []
  },
  {
   "cell_type": "markdown",
   "metadata": {},
   "source": [
    "#### Q4. (3pts) We want to test whether the mean of the exposed group equals the normal group. How would you set up the null hypothesis and alternative hypothesis? What is the p-value? Would you reject the null hypothesis at an significance level of 0.01? "
   ]
  },
  {
   "cell_type": "code",
   "execution_count": null,
   "metadata": {},
   "outputs": [],
   "source": []
  },
  {
   "cell_type": "markdown",
   "metadata": {},
   "source": [
    "## Problem 2.\n",
    "\n",
    "An investigator hypothesizes that in people free of diabetes, fasting blood glucose, a risk factor for coronary heart disease, is higher in those who drink at least 2 cups of coffee per day. A cross-sectional study is planned to assess the mean fasting blood glucose levels in people who drink at least two cups of coffee per day. \n",
    "\n",
    "The mean fasting blood glucose level in people free of diabetes is reported as 95.0 mg/dL with a standard deviation of 15 mg/dL. \n",
    "\n",
    "If the mean blood glucose level in people who drink at least 2 cups of coffee per day is 100 mg/dL, this would be important clinically. \n",
    "\n",
    "A one-sided test will be used with a 5% level of significance. "
   ]
  },
  {
   "cell_type": "markdown",
   "metadata": {},
   "source": [
    "#### Q1.  (2pts) Assume we enrolled a total of $n$ subjects. We will reject the null hypothesis if $\\bar X$ is greater than or equal to what value? This should be a funciton of $n$. Note that we are running a *one-sided test*."
   ]
  },
  {
   "cell_type": "code",
   "execution_count": null,
   "metadata": {},
   "outputs": [],
   "source": []
  },
  {
   "cell_type": "markdown",
   "metadata": {},
   "source": [
    "#### Q2. (3pts) Assume $n=50$. What would be the power of the test?"
   ]
  },
  {
   "cell_type": "code",
   "execution_count": null,
   "metadata": {},
   "outputs": [],
   "source": []
  },
  {
   "cell_type": "markdown",
   "metadata": {},
   "source": [
    "#### Q3. (2pts) What is the power of the test for a general $n$. This should be a function of $n$."
   ]
  },
  {
   "cell_type": "code",
   "execution_count": null,
   "metadata": {},
   "outputs": [],
   "source": []
  },
  {
   "cell_type": "markdown",
   "metadata": {},
   "source": [
    "#### Q4. (3pts) How many patients should be enrolled in the study to ensure that the power of the test is 80%?"
   ]
  },
  {
   "cell_type": "code",
   "execution_count": null,
   "metadata": {},
   "outputs": [],
   "source": []
  },
  {
   "cell_type": "markdown",
   "metadata": {},
   "source": [
    "## Problem 3."
   ]
  },
  {
   "cell_type": "markdown",
   "metadata": {},
   "source": [
    "In an effort to link cold environments with hypertension in humans, a preliminary experiment was conducted to investigate the effect of cold on hypertension in rats. Two random samples of 6 rats each were exposed to different environments. One sample of rats was held in a normal environment at 26 Celcius. The other sample was held in a cold 5 Celcius environment. Blood pressures and heart rates were measured for rats for both groups. The blood pressures for the 12 rats are contained in the file `RatBP.csv`.\n",
    "\n",
    "We wish to test the following hypotheses:\n",
    "$$H_0: \\mu_{26C} = \\mu_{5C}$$\n",
    "$$H_1: \\mu_{26C} \\neq \\mu_{5C}$$\n",
    "\n",
    "Please conduct an analysis of this data by addressing the following questions."
   ]
  },
  {
   "cell_type": "markdown",
   "metadata": {},
   "source": [
    "#### Q1. (3pts) Provide a visual presentation of the data (e.g.stacked histogram) and speculate (before conducting any statistical tests) whether the populations appear different or not."
   ]
  },
  {
   "cell_type": "code",
   "execution_count": null,
   "metadata": {},
   "outputs": [],
   "source": []
  },
  {
   "cell_type": "markdown",
   "metadata": {},
   "source": [
    "#### Q2. (4pts) Check on the assumption of equal variances."
   ]
  },
  {
   "cell_type": "code",
   "execution_count": null,
   "metadata": {},
   "outputs": [],
   "source": []
  },
  {
   "cell_type": "markdown",
   "metadata": {},
   "source": [
    "#### Q3. (3pts) Assume normality holds and conduct the appropriate test. Draw some conclusions about the two populations. "
   ]
  },
  {
   "cell_type": "code",
   "execution_count": null,
   "metadata": {},
   "outputs": [],
   "source": []
  },
  {
   "cell_type": "markdown",
   "metadata": {},
   "source": [
    "## Problem 4."
   ]
  },
  {
   "cell_type": "markdown",
   "metadata": {},
   "source": [
    "A pollution-control inspector suspected that a riverside community was releasing semitreated sewage into a river and this, as a consequence, was changing the level of dissolved oxygen of the river. To check this, he drew 15 randomly selected specimens of river water at a location above the town and another 15 specimens below the town. \n",
    "\n",
    "The dissolved oxygen readings, in parts per million, are given in the file `dissolvedO2.csv`. I would like you to answer some questions similar to those posed above only this time for the population of dissolved oxygen levels.\n",
    "\n",
    "We wish to test the following hypotheses:\n",
    "$$H_0: \\mu_{above} = \\mu_{below}$$\n",
    "$$H_1: \\mu_{above} > \\mu_{below}$$"
   ]
  },
  {
   "cell_type": "markdown",
   "metadata": {},
   "source": [
    "#### Q1. (3pts) Provide a visual presentation of the data (e.g. stacked histogram) and speculate (before conducting any statistical tests) whether the populations appear different or not."
   ]
  },
  {
   "cell_type": "code",
   "execution_count": null,
   "metadata": {},
   "outputs": [],
   "source": []
  },
  {
   "cell_type": "markdown",
   "metadata": {},
   "source": [
    "#### Q2. (4pts) Check on the assumption of equal variances."
   ]
  },
  {
   "cell_type": "code",
   "execution_count": null,
   "metadata": {},
   "outputs": [],
   "source": []
  },
  {
   "cell_type": "markdown",
   "metadata": {},
   "source": [
    "#### Q3. (3pts) Assume normality holds and conduct the appropriate test. Draw some conclusions about the two populations. *Note that $H_1$ is one-sided*."
   ]
  },
  {
   "cell_type": "code",
   "execution_count": null,
   "metadata": {},
   "outputs": [],
   "source": []
  }
 ],
 "metadata": {
  "kernelspec": {
   "display_name": "Python 3",
   "language": "python",
   "name": "python3"
  },
  "language_info": {
   "codemirror_mode": {
    "name": "ipython",
    "version": 3
   },
   "file_extension": ".py",
   "mimetype": "text/x-python",
   "name": "python",
   "nbconvert_exporter": "python",
   "pygments_lexer": "ipython3",
   "version": "3.7.3"
  }
 },
 "nbformat": 4,
 "nbformat_minor": 2
}
