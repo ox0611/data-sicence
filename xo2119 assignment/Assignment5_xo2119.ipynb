{
 "cells": [
  {
   "cell_type": "code",
   "execution_count": 1,
   "metadata": {},
   "outputs": [],
   "source": [
    "import numpy as np\n",
    "from datascience import *\n",
    "import matplotlib\n",
    "matplotlib.use('Agg', warn=False)\n",
    "%matplotlib inline\n",
    "import matplotlib.pyplot as plt\n",
    "plt.style.use ('fivethirtyeight')"
   ]
  },
  {
   "cell_type": "code",
   "execution_count": 2,
   "metadata": {},
   "outputs": [],
   "source": [
    "number_flips = 10            # number of flips in each experiment\n",
    "sample_size = 100             # number of experiments to run for each simulation\n",
    "number_of_simulation = 1000\n",
    "\n",
    "def run_experiment(number_flips):\n",
    "    coinOutcomes = make_array('H', 'T')\n",
    "    streak = np.random.choice(coinOutcomes, number_flips)\n",
    "    t = 1\n",
    "    flag = 0\n",
    "    for i in range(len(streak) - 1):\n",
    "        if streak[i + 1] == streak[i]:\n",
    "            t += 1\n",
    "        else:\n",
    "            if t > flag:\n",
    "                flag = t\n",
    "            t = 1\n",
    "    return flag\n",
    "\n",
    "def collect_sample(sample_size, number_flips):\n",
    "    numstreak = np.empty(sample_size)\n",
    "    for i in range(sample_size):\n",
    "        numstreak[i] = run_experiment(number_flips)\n",
    "    return numstreak\n",
    "\n",
    "def run_simulation_correct(number_of_simulation, sample_size, number_flips):\n",
    "    variance_statistic = np.empty(number_of_simulation)\n",
    "    for i in range(number_of_simulation):\n",
    "        variance_statistic[i] = np.mean(collect_sample(sample_size, number_flips))\n",
    "    return variance_statistic"
   ]
  },
  {
   "cell_type": "code",
   "execution_count": 3,
   "metadata": {},
   "outputs": [
    {
     "data": {
      "text/plain": [
       "3.3126400000000005"
      ]
     },
     "execution_count": 3,
     "metadata": {},
     "output_type": "execute_result"
    }
   ],
   "source": [
    "np.mean(run_simulation_correct(number_of_simulation, sample_size, number_flips))"
   ]
  },
  {
   "cell_type": "markdown",
   "metadata": {},
   "source": [
    "when flipping 10 coins, the simulation value is 3.3126"
   ]
  },
  {
   "cell_type": "code",
   "execution_count": 4,
   "metadata": {},
   "outputs": [],
   "source": [
    "number_flips = 100            # number of flips in each experiment\n",
    "sample_size = 100             # number of experiments to run for each simulation\n",
    "number_of_simulation = 1000\n",
    "\n",
    "def run_experiment(number_flips):\n",
    "    coinOutcomes = make_array('H', 'T')\n",
    "    streak = np.random.choice(coinOutcomes, number_flips)\n",
    "    t = 1\n",
    "    flag = 0\n",
    "    for i in range(len(streak) - 1):\n",
    "        if streak[i + 1] == streak[i]:\n",
    "            t += 1\n",
    "        else:\n",
    "            if t > flag:\n",
    "                flag = t\n",
    "            t = 1\n",
    "    return flag\n",
    "\n",
    "def collect_sample(sample_size, number_flips):\n",
    "    numstreak = np.empty(sample_size)\n",
    "    for i in range(sample_size):\n",
    "        numstreak[i] = run_experiment(number_flips)\n",
    "    return numstreak\n",
    "\n",
    "def run_simulation_correct(number_of_simulation, sample_size, number_flips):\n",
    "    variance_statistic = np.empty(number_of_simulation)\n",
    "    for i in range(number_of_simulation):\n",
    "        variance_statistic[i] = np.mean(collect_sample(sample_size, number_flips))\n",
    "    return variance_statistic"
   ]
  },
  {
   "cell_type": "code",
   "execution_count": 5,
   "metadata": {},
   "outputs": [
    {
     "data": {
      "text/plain": [
       "6.9444099999999995"
      ]
     },
     "execution_count": 5,
     "metadata": {},
     "output_type": "execute_result"
    }
   ],
   "source": [
    "np.mean(run_simulation_correct(number_of_simulation, sample_size, number_flips))"
   ]
  },
  {
   "cell_type": "markdown",
   "metadata": {},
   "source": [
    "when flipping 100 coins, the simulation value is 6.9444"
   ]
  },
  {
   "cell_type": "code",
   "execution_count": 6,
   "metadata": {},
   "outputs": [],
   "source": [
    "number_flips = 1000           # number of flips in each experiment\n",
    "sample_size = 100             # number of experiments to run for each simulation\n",
    "number_of_simulation = 1000\n",
    "\n",
    "def run_experiment(number_flips):\n",
    "    coinOutcomes = make_array('H', 'T')\n",
    "    streak = np.random.choice(coinOutcomes, number_flips)\n",
    "    t = 1\n",
    "    flag = 0\n",
    "    for i in range(len(streak) - 1):\n",
    "        if streak[i + 1] == streak[i]:\n",
    "            t += 1\n",
    "        else:\n",
    "            if t > flag:\n",
    "                flag = t\n",
    "            t = 1\n",
    "    return flag\n",
    "\n",
    "def collect_sample(sample_size, number_flips):\n",
    "    numstreak = np.empty(sample_size)\n",
    "    for i in range(sample_size):\n",
    "        numstreak[i] = run_experiment(number_flips)\n",
    "    return numstreak\n",
    "\n",
    "def run_simulation_correct(number_of_simulation, sample_size, number_flips):\n",
    "    variance_statistic = np.empty(number_of_simulation)\n",
    "    for i in range(number_of_simulation):\n",
    "        variance_statistic[i] = np.mean(collect_sample(sample_size, number_flips))\n",
    "    return variance_statistic"
   ]
  },
  {
   "cell_type": "code",
   "execution_count": 7,
   "metadata": {},
   "outputs": [
    {
     "data": {
      "text/plain": [
       "10.28741"
      ]
     },
     "execution_count": 7,
     "metadata": {},
     "output_type": "execute_result"
    }
   ],
   "source": [
    "np.mean(run_simulation_correct(number_of_simulation, sample_size, number_flips))"
   ]
  },
  {
   "cell_type": "markdown",
   "metadata": {},
   "source": [
    "when flipping 1000 coins, the simulation value is 10.28741"
   ]
  },
  {
   "cell_type": "code",
   "execution_count": 8,
   "metadata": {},
   "outputs": [],
   "source": [
    "number_flips = 10000            # number of flips in each experiment\n",
    "sample_size = 10             # number of experiments to run for each simulation\n",
    "number_of_simulation = 1000\n",
    "\n",
    "def run_experiment(number_flips):\n",
    "    coinOutcomes = make_array('H', 'T')\n",
    "    streak = np.random.choice(coinOutcomes, number_flips)\n",
    "    t = 1\n",
    "    flag = 0\n",
    "    for i in range(len(streak) - 1):\n",
    "        if streak[i + 1] == streak[i]:\n",
    "            t += 1\n",
    "        else:\n",
    "            if t > flag:\n",
    "                flag = t\n",
    "            t = 1\n",
    "    return flag\n",
    "\n",
    "def collect_sample(sample_size, number_flips):\n",
    "    numstreak = np.empty(sample_size)\n",
    "    for i in range(sample_size):\n",
    "        numstreak[i] = run_experiment(number_flips)\n",
    "    return numstreak\n",
    "\n",
    "def run_simulation_correct(number_of_simulation, sample_size, number_flips):\n",
    "    variance_statistic = np.empty(number_of_simulation)\n",
    "    for i in range(number_of_simulation):\n",
    "        variance_statistic[i] = np.mean(collect_sample(sample_size, number_flips))\n",
    "    return variance_statistic"
   ]
  },
  {
   "cell_type": "code",
   "execution_count": 9,
   "metadata": {},
   "outputs": [
    {
     "data": {
      "text/plain": [
       "13.6147"
      ]
     },
     "execution_count": 9,
     "metadata": {},
     "output_type": "execute_result"
    }
   ],
   "source": [
    "np.mean(run_simulation_correct(number_of_simulation, sample_size, number_flips))"
   ]
  },
  {
   "cell_type": "markdown",
   "metadata": {},
   "source": [
    "when flipping 10000 coins, the simulation value is 13.6147"
   ]
  },
  {
   "cell_type": "code",
   "execution_count": 14,
   "metadata": {},
   "outputs": [],
   "source": [
    "number_flips = 100000            # number of flips in each experiment\n",
    "sample_size = 5             # number of experiments to run for each simulation\n",
    "number_of_simulation = 100\n",
    "\n",
    "def run_experiment(number_flips):\n",
    "    coinOutcomes = make_array('H', 'T')\n",
    "    streak = np.random.choice(coinOutcomes, number_flips)\n",
    "    t = 1\n",
    "    flag = 0\n",
    "    for i in range(len(streak) - 1):\n",
    "        if streak[i + 1] == streak[i]:\n",
    "            t += 1\n",
    "        else:\n",
    "            if t > flag:\n",
    "                flag = t\n",
    "            t = 1\n",
    "    return flag\n",
    "\n",
    "def collect_sample(sample_size, number_flips):\n",
    "    numstreak = np.empty(sample_size)\n",
    "    for i in range(sample_size):\n",
    "        numstreak[i] = run_experiment(number_flips)\n",
    "    return numstreak\n",
    "\n",
    "def run_simulation_correct(number_of_simulation, sample_size, number_flips):\n",
    "    variance_statistic = np.empty(number_of_simulation)\n",
    "    for i in range(number_of_simulation):\n",
    "        variance_statistic[i] = np.mean(collect_sample(sample_size, number_flips))\n",
    "    return variance_statistic"
   ]
  },
  {
   "cell_type": "code",
   "execution_count": 15,
   "metadata": {},
   "outputs": [
    {
     "data": {
      "text/plain": [
       "17.020000000000003"
      ]
     },
     "execution_count": 15,
     "metadata": {},
     "output_type": "execute_result"
    }
   ],
   "source": [
    "np.mean(run_simulation_correct(number_of_simulation, sample_size, number_flips))"
   ]
  },
  {
   "cell_type": "markdown",
   "metadata": {},
   "source": [
    "when flipping 100000 coins, the simulation value is 17.02"
   ]
  }
 ],
 "metadata": {
  "kernelspec": {
   "display_name": "Python 3",
   "language": "python",
   "name": "python3"
  },
  "language_info": {
   "codemirror_mode": {
    "name": "ipython",
    "version": 3
   },
   "file_extension": ".py",
   "mimetype": "text/x-python",
   "name": "python",
   "nbconvert_exporter": "python",
   "pygments_lexer": "ipython3",
   "version": "3.7.3"
  }
 },
 "nbformat": 4,
 "nbformat_minor": 2
}
